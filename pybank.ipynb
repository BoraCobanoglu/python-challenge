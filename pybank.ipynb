{
 "cells": [
  {
   "cell_type": "code",
   "execution_count": 1,
   "metadata": {},
   "outputs": [],
   "source": [
    "import os, csv\n",
    "\n"
   ]
  },
  {
   "cell_type": "code",
   "execution_count": 2,
   "metadata": {},
   "outputs": [],
   "source": [
    "input_file =  os.path.join(\"input/budget_data.csv\")\n",
    "output_file = os.path.join(\"result\", \"summary.txt\")"
   ]
  },
  {
   "cell_type": "code",
   "execution_count": 3,
   "metadata": {},
   "outputs": [],
   "source": [
    "total_months = []\n",
    "total_profit = []\n",
    "monthly_change = []"
   ]
  },
  {
   "cell_type": "code",
   "execution_count": 4,
   "metadata": {},
   "outputs": [],
   "source": [
    "with open(input_file) as data:\n",
    "    csvreader = csv.reader(data,delimiter=\",\")\n",
    "\n",
    "#     skip header\n",
    "    header = next(csvreader)\n",
    "         \n",
    "#         append data in rows to the empty lists created before\n",
    "    for row in csvreader:   \n",
    "        total_months.append(row[0])\n",
    "        total_profit.append(int(row[1]))\n",
    "        \n",
    "#         monthly change\n",
    "    for i in range(len(total_profit)-1):\n",
    "         monthly_change.append(total_profit[i+1]-total_profit[i])\n"
   ]
  },
  {
   "cell_type": "code",
   "execution_count": 5,
   "metadata": {},
   "outputs": [],
   "source": [
    "# min-max values\n",
    "max_increase = max(monthly_change)\n",
    "max_decrease = min(monthly_change)\n",
    "\n"
   ]
  },
  {
   "cell_type": "code",
   "execution_count": 6,
   "metadata": {},
   "outputs": [],
   "source": [
    "max_increase_month = monthly_change.index(max(monthly_change)) + 1\n",
    "max_decrease_month = monthly_change.index(min(monthly_change)) + 1 "
   ]
  },
  {
   "cell_type": "code",
   "execution_count": 7,
   "metadata": {},
   "outputs": [],
   "source": [
    "average_change = sum(monthly_change) / len(monthly_change)"
   ]
  },
  {
   "cell_type": "code",
   "execution_count": 8,
   "metadata": {},
   "outputs": [],
   "source": [
    "output = (\n",
    "    f\"Summary\\n\"\n",
    "    f\"Total Months: {len(total_months)}\\n\"\n",
    "    f\"Total Profit: ${sum(total_profit)}\\n\"\n",
    "    f\"Average Change: {average_change}\\n\"\n",
    "    f\"Greatest Increase in Profits: {total_months[max_increase_month]} (${(str(max_increase))})\\n\"\n",
    "    f\"Greatest Decrease in Profits: {total_months[max_decrease_month]} (${(str(max_decrease))})\\n\"\n",
    ")\n"
   ]
  },
  {
   "cell_type": "code",
   "execution_count": 9,
   "metadata": {},
   "outputs": [],
   "source": [
    "with open(output_file, \"w\") as txt_file:\n",
    "    txt_file.write(output)"
   ]
  },
  {
   "cell_type": "code",
   "execution_count": null,
   "metadata": {},
   "outputs": [],
   "source": []
  }
 ],
 "metadata": {
  "kernelspec": {
   "display_name": "Python 3",
   "language": "python",
   "name": "python3"
  },
  "language_info": {
   "codemirror_mode": {
    "name": "ipython",
    "version": 3
   },
   "file_extension": ".py",
   "mimetype": "text/x-python",
   "name": "python",
   "nbconvert_exporter": "python",
   "pygments_lexer": "ipython3",
   "version": "3.6.8"
  }
 },
 "nbformat": 4,
 "nbformat_minor": 2
}
